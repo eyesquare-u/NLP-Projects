{
 "cells": [
  {
   "cell_type": "code",
   "execution_count": 139,
   "metadata": {},
   "outputs": [],
   "source": [
    "import pandas as pd\n",
    "from bs4 import BeautifulSoup\n",
    "import re\n",
    "import string\n",
    "import matplotlib.pyplot as plt"
   ]
  },
  {
   "cell_type": "markdown",
   "metadata": {},
   "source": [
    "### **Basic Import and Checking for Null values, imbalance in dataset**"
   ]
  },
  {
   "cell_type": "code",
   "execution_count": 140,
   "metadata": {},
   "outputs": [
    {
     "data": {
      "text/html": [
       "<div>\n",
       "<style scoped>\n",
       "    .dataframe tbody tr th:only-of-type {\n",
       "        vertical-align: middle;\n",
       "    }\n",
       "\n",
       "    .dataframe tbody tr th {\n",
       "        vertical-align: top;\n",
       "    }\n",
       "\n",
       "    .dataframe thead th {\n",
       "        text-align: right;\n",
       "    }\n",
       "</style>\n",
       "<table border=\"1\" class=\"dataframe\">\n",
       "  <thead>\n",
       "    <tr style=\"text-align: right;\">\n",
       "      <th></th>\n",
       "      <th>CATEGORY</th>\n",
       "      <th>MESSAGE</th>\n",
       "    </tr>\n",
       "  </thead>\n",
       "  <tbody>\n",
       "    <tr>\n",
       "      <th>0</th>\n",
       "      <td>1</td>\n",
       "      <td>Dear Homeowner,\\n\\n \\n\\nInterest Rates are at ...</td>\n",
       "    </tr>\n",
       "    <tr>\n",
       "      <th>1</th>\n",
       "      <td>1</td>\n",
       "      <td>ATTENTION: This is a MUST for ALL Computer Use...</td>\n",
       "    </tr>\n",
       "    <tr>\n",
       "      <th>2</th>\n",
       "      <td>1</td>\n",
       "      <td>This is a multi-part message in MIME format.\\n...</td>\n",
       "    </tr>\n",
       "    <tr>\n",
       "      <th>3</th>\n",
       "      <td>1</td>\n",
       "      <td>IMPORTANT INFORMATION:\\n\\n\\n\\nThe new domain n...</td>\n",
       "    </tr>\n",
       "    <tr>\n",
       "      <th>4</th>\n",
       "      <td>1</td>\n",
       "      <td>This is the bottom line.  If you can GIVE AWAY...</td>\n",
       "    </tr>\n",
       "  </tbody>\n",
       "</table>\n",
       "</div>"
      ],
      "text/plain": [
       "   CATEGORY                                            MESSAGE\n",
       "0         1  Dear Homeowner,\\n\\n \\n\\nInterest Rates are at ...\n",
       "1         1  ATTENTION: This is a MUST for ALL Computer Use...\n",
       "2         1  This is a multi-part message in MIME format.\\n...\n",
       "3         1  IMPORTANT INFORMATION:\\n\\n\\n\\nThe new domain n...\n",
       "4         1  This is the bottom line.  If you can GIVE AWAY..."
      ]
     },
     "execution_count": 140,
     "metadata": {},
     "output_type": "execute_result"
    }
   ],
   "source": [
    "dtf = pd.read_csv('Spam Email raw text for NLP.csv')\n",
    "dtf.drop(['FILE_NAME'], axis=1, inplace=True)\n",
    "dtf.head()"
   ]
  },
  {
   "cell_type": "code",
   "execution_count": 141,
   "metadata": {},
   "outputs": [
    {
     "data": {
      "text/plain": [
       "CATEGORY    0\n",
       "MESSAGE     0\n",
       "dtype: int64"
      ]
     },
     "execution_count": 141,
     "metadata": {},
     "output_type": "execute_result"
    }
   ],
   "source": [
    "dtf.isnull().sum()"
   ]
  },
  {
   "cell_type": "code",
   "execution_count": 142,
   "metadata": {},
   "outputs": [
    {
     "data": {
      "text/plain": [
       "0    0.672878\n",
       "1    0.327122\n",
       "Name: CATEGORY, dtype: float64"
      ]
     },
     "execution_count": 142,
     "metadata": {},
     "output_type": "execute_result"
    }
   ],
   "source": [
    "dtf['CATEGORY'].value_counts(normalize=True)"
   ]
  },
  {
   "cell_type": "markdown",
   "metadata": {},
   "source": [
    "## **Preprocessing**"
   ]
  },
  {
   "cell_type": "markdown",
   "metadata": {},
   "source": [
    "#### ___Pre-Processing 1: Removing html, numbers, punctuation and lower casing the messages___"
   ]
  },
  {
   "cell_type": "code",
   "execution_count": 165,
   "metadata": {},
   "outputs": [],
   "source": [
    "def preprocess1(text):\n",
    "    # removing \\n\n",
    "    text = re.sub(r'[\\n]',' ',text) \n",
    "    # removing HTML Tags\n",
    "    text = re.sub(r'<.*?>',' ',text)\n",
    "    # removing URLs\n",
    "    text = re.sub(r\"\"\"(?i)\\b((?:https?:(?:/{1,3}|[a-z0-9%])|[a-z0-9.\\-]+[.](?:com|net|org|edu|gov|mil|aero|asia|biz|cat|coop|info|int|jobs|mobi|museum|name|post|pro|tel|travel|xxx|ac|ad|ae|af|ag|ai|al|am|an|ao|aq|ar|as|at|au|aw|ax|az|ba|bb|bd|be|bf|bg|bh|bi|bj|bm|bn|bo|br|bs|bt|bv|bw|by|bz|ca|cc|cd|cf|cg|ch|ci|ck|cl|cm|cn|co|cr|cs|cu|cv|cx|cy|cz|dd|de|dj|dk|dm|do|dz|ec|ee|eg|eh|er|es|et|eu|fi|fj|fk|fm|fo|fr|ga|gb|gd|ge|gf|gg|gh|gi|gl|gm|gn|gp|gq|gr|gs|gt|gu|gw|gy|hk|hm|hn|hr|ht|hu|id|ie|il|im|in|io|iq|ir|is|it|je|jm|jo|jp|ke|kg|kh|ki|km|kn|kp|kr|kw|ky|kz|la|lb|lc|li|lk|lr|ls|lt|lu|lv|ly|ma|mc|md|me|mg|mh|mk|ml|mm|mn|mo|mp|mq|mr|ms|mt|mu|mv|mw|mx|my|mz|na|nc|ne|nf|ng|ni|nl|no|np|nr|nu|nz|om|pa|pe|pf|pg|ph|pk|pl|pm|pn|pr|ps|pt|pw|py|qa|re|ro|rs|ru|rw|sa|sb|sc|sd|se|sg|sh|si|sj|Ja|sk|sl|sm|sn|so|sr|ss|text|su|sv|sx|sy|sz|tc|td|tf|tg|th|tj|tk|tl|tm|tn|to|tp|tr|tt|tv|tw|tz|ua|ug|uk|us|uy|uz|va|vc|ve|vg|vi|vn|vu|wf|ws|ye|yt|yu|za|zm|zw)/)(?:[^\\s()<>{}\\[\\]]+|\\([^\\s()]*?\\([^\\s()]+\\)[^\\s()]*?\\)|\\([^\\s]+?\\))+(?:\\([^\\s()]*?\\([^\\s()]+\\)[^\\s()]*?\\)|\\([^\\s]+?\\)|[^\\s`!()\\[\\]{};:\\'\\\".,<>?«»“”‘’])|(?:(?<!@)[a-z0-9]+(?:[.\\-][a-z0-9]+)*[.](?:com|net|org|edu|gov|mil|aero|asia|biz|cat|coop|info|int|jobs|mobi|museum|name|post|pro|tel|travel|xxx|ac|ad|ae|af|ag|ai|al|am|an|ao|aq|ar|as|at|au|aw|ax|az|ba|bb|bd|be|bf|bg|bh|bi|bj|bm|bn|bo|br|bs|bt|bv|bw|by|bz|ca|cc|cd|cf|cg|ch|ci|ck|cl|cm|cn|co|cr|cs|cu|cv|cx|cy|cz|dd|de|dj|dk|dm|do|dz|ec|ee|eg|eh|er|es|et|eu|fi|fj|fk|fm|fo|fr|ga|gb|gd|ge|gf|gg|gh|gi|gl|gm|gn|gp|gq|gr|gs|gt|gu|gw|gy|hk|hm|hn|hr|ht|hu|id|ie|il|im|in|io|iq|ir|is|it|je|jm|jo|jp|ke|kg|kh|ki|km|kn|kp|kr|kw|ky|kz|la|lb|lc|li|lk|lr|ls|lt|lu|lv|ly|ma|mc|md|me|mg|mh|mk|ml|mm|mn|mo|mp|mq|mr|ms|mt|mu|mv|mw|mx|my|mz|na|nc|ne|nf|ng|ni|nl|no|np|nr|nu|nz|om|pa|pe|pf|pg|ph|pk|pl|pm|pn|pr|ps|pt|pw|py|qa|re|ro|rs|ru|rw|sa|sb|sc|sd|se|sg|sh|si|sj|Ja|sk|sl|sm|sn|so|sr|ss|text|su|sv|sx|sy|sz|tc|td|tf|tg|th|tj|tk|tl|tm|tn|to|tp|tr|tt|tv|tw|tz|ua|ug|uk|us|uy|uz|va|vc|ve|vg|vi|vn|vu|wf|ws|ye|yt|yu|za|zm|zw)\\b/?(?!@)))\"\"\", '',text)\n",
    "    # removing numbers and punctations\n",
    "    text = re.sub(r'[^a-zA-Z]',' ',text)\n",
    "    # removing individual stray alphabets\n",
    "    text = re.sub(r'\\b[a-zA-Z]\\b','', text)\n",
    "    # lower casing \n",
    "    text = text.lower()\n",
    "    \n",
    "    return text\n",
    "#preprocess1('This is a multi-part message in MIME format.\\n\\n\\n\\n------=_NextPart_000_1CDC19_01C25366.4B57F3A0\\n\\nContent-Type: text/plain;\\n\\n\\tcharset=\"Windows-1252\"\\n\\nContent-Transfer-Encoding: quoted-printable\\n\\n\\n\\n We dare you...\\n\\n Try to find a better annuity!\\n\\n=20\\n\\n  - 5.40% Guaranteed for 6 Years=0A=\\n\\n- 6 Year Surrender Charge=0A=\\n\\n- 5% Agent\\n\\nCommission up to age 80=09\\n\\nCall today for more information!\\n\\n 800-888-7641 ext. 103\\n\\n- or -\\n\\n\\n\\nPlease fill out the form below for more information\\t=20\\n\\nName:\\t \\t  =09\\n\\nE-mail:\\t \\t=20\\n\\nPhone:\\t \\t=20\\n\\nCity:\\t \\t State:\\t \\t=20\\n\\n \\t    =09\\n\\n=20\\n\\n PMG Financial Services\\n\\n*5.40% for deposits of $100,000 and up, 5.25% interest for deposits\\n\\ntotalling $25,000-$99,999.\\t=20\\n\\nWe don\\'t want anyone to receive our mailings who does not wish to\\n\\nreceive them. This is a professional communication sent to insurance\\n\\nprofessionals. To be removed from this mailing list, DO NOT REPLY to\\n\\nthis message. Instead, go here: http://www.insuranceiq.com/optout\\n\\n<http://www.insuranceiq.com/optout/>=20\\n\\n\\n\\nLegal Notice <http://www.insiq.com/legal.htm>=20\\n\\n\\n\\n------=_NextPart_000_1CDC19_01C25366.4B57F3A0\\n\\nContent-Type: text/html;\\n\\n\\tcharset=\"iso-8859-1\"\\n\\nContent-Transfer-Encoding: quoted-printable\\n\\n\\n\\n<html>\\n\\n<head>\\n\\n<title>We Dare You to Find a Better Annuity</title>\\n\\n<meta http-equiv=3D\"Content-Type\" content=3D\"text/html; =\\n\\ncharset=3Diso-8859-1\">\\n\\n</head>\\n\\n<body bgcolor=3D\"#666666\" text=3D\"#000000\">\\n\\n<font face=3D\"Arial, Helvetica, sans-serif\">=20\\n\\n<table width=3D\"550\" border=3D\"1\" align=3D\"center\" cellpadding=3D\"0\" =\\n\\ncellspacing=3D\"0\" bordercolor=3D\"#000000\" bgcolor=3D\"#FFFFFF\">\\n\\n  <tr>=20\\n\\n    <td>\\n\\n      <img src=3D\"http://iiq.us/images/pmg/20020822-101.gif\" alt=3D\"We =\\n\\ndare you...\" width=3D\"550\" height=3D\"55\"><br>\\n\\n      <img src=3D\"http://iiq.us/images/pmg/20020822-102.jpg\" alt=3D\"Try =\\n\\nto find a better annuity!\" width=3D\"550\" height=3D\"47\"><br>\\n\\n      <img src=3D\"http://iiq.us/images/pmg/20020822-103.jpg\" =\\n\\nwidth=3D\"550\" height=3D\"248\">=20\\n\\n      <table width=3D\"100%\" cellpadding=3D\"2\" cellspacing=3D\"2\" =\\n\\nborder=3D\"0\" bgcolor=3D\"#ffffff\">\\n\\n        <tr>=20\\n\\n          <td><img src=3D\"http://iiq.us/images/pmg/20020822-201.gif\" =\\n\\nwidth=3D\"32\" height=3D\"142\"><img =\\n\\nsrc=3D\"http://iiq.us/images/pmg/20020822-202.gif\" alt=3D\"- 5.40% =\\n\\nGuaranteed for 6 Years&#10;- 6 Year Surrender Charge&#10;- 5% Agent =\\n\\nCommission up to age 80\" width=3D\"508\" height=3D\"142\"></td>\\n\\n        </tr>\\n\\n        <tr>=20\\n\\n          <td align=3D\"center\">\\n\\n            <b><font size=3D\"2\">Call today for more information!<br>\\n\\n            <img src=3D\"http://iiq.us/images/pmg/20020822-3.gif\" =\\n\\nalt=3D\"800-888-7641 ext. 103\" width=3D\"535\" height=3D\"115\"><br>\\n\\n            - or -</font></b><br>\\n\\n            <table width=3D\"95%\" border=3D\"1\" cellpadding=3D\"0\" =\\n\\ncellspacing=3D\"0\" bordercolor=3D\"#000000\">\\n\\n              <tr>=20\\n\\n                <form method=3D\"post\" =\\n\\naction=3D\"http://65.217.159.103/response/response.asp\">\\n\\n                  <td>=20\\n\\n                    <table width=3D\"100%\" border=3D\"0\" align=3D\"center\" =\\n\\ncellpadding=3D\"2\" cellspacing=3D\"0\" =\\n\\nbackground=3D\"http://iiq.us/images/pmg/20020822-5.gif\" =\\n\\nbgcolor=3D\"#ffffff\">\\n\\n                      <tr>=20\\n\\n                        <td colspan=3D\"5\" align=3D\"center\"><b><font =\\n\\nsize=3D\"2\">Please fill out the form below for more =\\n\\ninformation</font></b></td>\\n\\n                      </tr>\\n\\n                      <tr>=20\\n\\n                        <td width=3D\"15%\" align=3D\"right\"><b><font =\\n\\nsize=3D\"2\">Name:</font></b></td>\\n\\n                        <td colspan=3D\"3\"><input type=3D\"text\" =\\n\\nname=3D\"contactname\" size=3D\"50\"></td>\\n\\n                        <td rowspan=3D\"5\" valign=3D\"middle\" =\\n\\nalign=3D\"center\"><img src=3D\"http://iiq.us/images/q3.gif\" width=3D\"43\" =\\n\\nheight=3D\"50\"></td>\\n\\n                      </tr>\\n\\n                      <tr>=20\\n\\n                        <td width=3D\"15%\" align=3D\"right\"><b><font =\\n\\nsize=3D\"2\">E-mail:</font></b></td>\\n\\n                        <td colspan=3D\"3\"><input type=3D\"text\" =\\n\\nname=3D\"email\" size=3D\"50\"></td>\\n\\n                      </tr>\\n\\n                      <tr>=20\\n\\n                        <td width=3D\"15%\" align=3D\"right\"><b><font =\\n\\nsize=3D\"2\">Phone:</font></b></td>\\n\\n                        <td colspan=3D\"3\"><input type=3D\"text\" =\\n\\nname=3D\"phone\" size=3D\"50\"></td>\\n\\n                      </tr>\\n\\n                      <tr>=20\\n\\n                        <td width=3D\"15%\" align=3D\"right\"><b><font =\\n\\nsize=3D\"2\">City:</font></b></td>\\n\\n                        <td width=3D\"30%\"><input type=3D\"text\" =\\n\\nname=3D\"city\" size=3D\"20\"></td>\\n\\n                        <td width=3D\"15%\" align=3D\"right\"><b><font =\\n\\nsize=3D\"2\">State:</font></b></td>\\n\\n                        <td width=3D\"20%\"><input type=3D\"text\" =\\n\\nname=3D\"state\" size=3D\"2\"></td>\\n\\n                      </tr>\\n\\n                      <tr>=20\\n\\n                        <td width=3D\"15%\" align=3D\"right\">&nbsp;</td>\\n\\n                        <td width=3D\"30%\" colspan=3D\\'3\\'>=20\\n\\n                          <input type=3D\"submit\" name=3D\"btnsubmit\" =\\n\\nvalue=3D\"Submit\">\\n\\n                          <input type=3D\"hidden\" =\\n\\nname=3D\"hdnRecipientTxt\" value=3D\"rhock@pmgsecurities.com\">\\n\\n                          <input type=3D\"hidden\" name=3D\"hdnSubjectTxt\" =\\n\\nvalue=3D\"PMG Dare Ad Inquiry\">\\n\\n                        </td>\\n\\n                      </tr>\\n\\n                    </table>\\n\\n                  </td>\\n\\n                <input type=3D\\'hidden\\' name=3D\\'SentTo\\' value=3D\\'304704\\'>\\n\\n</form>\\n\\n              </tr>\\n\\n            </table>\\n\\n            <b><font size=3D\"2\"><img =\\n\\nsrc=3D\"http://iiq.us/images/pmg/20020822-4.gif\" alt=3D\"PMG Financial =\\n\\nServices\" width=3D\"416\" height=3D\"142\">=20\\n\\n            </font></b></td>\\n\\n        </tr>\\n\\n        <tr>=20\\n\\n          <td><font size=3D\"1\">*5.40% for deposits of $100,000 and up, =\\n\\n5.25% interest for deposits totalling $25,000-$99,999.</font></td>\\n\\n        </tr>\\n\\n      </table>\\n\\n\\t\\t</td>\\n\\n  </tr>\\n\\n  <tr>=20\\n\\n    <td width=3D\"100%\" bgcolor=3D\"#cccccc\" align=3D\"center\">\\n\\n\\t\\t\\t<p><font face=3D\"Arial, Helvetica, sans-serif\" size=3D\"1\">We=20\\n\\n\\t\\t\\tdon\\'t want anyone to receive our mailings who does not=20\\n\\n\\t\\t\\twish to receive them. This is a professional communication=20\\n\\n\\t\\t\\tsent to insurance professionals. To be removed from this mailing=20\\n\\n\\t\\t\\tlist, <b>DO NOT REPLY</b> to this message. Instead, go here: <a =\\n\\nhref=3D\"http://www.insuranceiq.com/optout/\">=20\\n\\n\\t\\t\\thttp://www.insuranceiq.com/optout</a></font></p>\\n\\n    </td>\\n\\n  </tr>\\n\\n</table>\\n\\n<center>\\n\\n  <a href=3D\"http://www.insiq.com/legal.htm\"><font size=3D\"1\" =\\n\\nface=3D\"Arial, Helvetica, sans-serif\">Legal Notice </font></a>=20\\n\\n</center>\\n\\n</font>\\n\\n</body>\\n\\n</html>\\n\\n\\n\\n------=_NextPart_000_1CDC19_01C25366.4B57F3A0--\\n\\n\\n')"
   ]
  },
  {
   "cell_type": "code",
   "execution_count": 144,
   "metadata": {},
   "outputs": [
    {
     "data": {
      "text/html": [
       "<div>\n",
       "<style scoped>\n",
       "    .dataframe tbody tr th:only-of-type {\n",
       "        vertical-align: middle;\n",
       "    }\n",
       "\n",
       "    .dataframe tbody tr th {\n",
       "        vertical-align: top;\n",
       "    }\n",
       "\n",
       "    .dataframe thead th {\n",
       "        text-align: right;\n",
       "    }\n",
       "</style>\n",
       "<table border=\"1\" class=\"dataframe\">\n",
       "  <thead>\n",
       "    <tr style=\"text-align: right;\">\n",
       "      <th></th>\n",
       "      <th>CATEGORY</th>\n",
       "      <th>MESSAGE</th>\n",
       "      <th>message_cleaned</th>\n",
       "    </tr>\n",
       "  </thead>\n",
       "  <tbody>\n",
       "    <tr>\n",
       "      <th>0</th>\n",
       "      <td>1</td>\n",
       "      <td>Dear Homeowner,\\n\\n \\n\\nInterest Rates are at ...</td>\n",
       "      <td>dear homeowner      interest rates are at thei...</td>\n",
       "    </tr>\n",
       "    <tr>\n",
       "      <th>1</th>\n",
       "      <td>1</td>\n",
       "      <td>ATTENTION: This is a MUST for ALL Computer Use...</td>\n",
       "      <td>attention  this is  must for all computer user...</td>\n",
       "    </tr>\n",
       "    <tr>\n",
       "      <th>2</th>\n",
       "      <td>1</td>\n",
       "      <td>This is a multi-part message in MIME format.\\n...</td>\n",
       "      <td>this is  multi part message in mime format    ...</td>\n",
       "    </tr>\n",
       "    <tr>\n",
       "      <th>3</th>\n",
       "      <td>1</td>\n",
       "      <td>IMPORTANT INFORMATION:\\n\\n\\n\\nThe new domain n...</td>\n",
       "      <td>important information     the new domain names...</td>\n",
       "    </tr>\n",
       "    <tr>\n",
       "      <th>4</th>\n",
       "      <td>1</td>\n",
       "      <td>This is the bottom line.  If you can GIVE AWAY...</td>\n",
       "      <td>this is the bottom line   if you can give away...</td>\n",
       "    </tr>\n",
       "    <tr>\n",
       "      <th>...</th>\n",
       "      <td>...</td>\n",
       "      <td>...</td>\n",
       "      <td>...</td>\n",
       "    </tr>\n",
       "    <tr>\n",
       "      <th>5791</th>\n",
       "      <td>0</td>\n",
       "      <td>I'm one of the 30,000 but it's not working ver...</td>\n",
       "      <td>one of the        but it  not working very w...</td>\n",
       "    </tr>\n",
       "    <tr>\n",
       "      <th>5792</th>\n",
       "      <td>0</td>\n",
       "      <td>Damien Morton quoted:\\n\\n&gt;W3C approves HTML 4 ...</td>\n",
       "      <td>damien morton quoted      approves html    emo...</td>\n",
       "    </tr>\n",
       "    <tr>\n",
       "      <th>5793</th>\n",
       "      <td>0</td>\n",
       "      <td>On Mon, 2002-07-22 at 06:50, che wrote:\\n\\n\\n\\...</td>\n",
       "      <td>on mon             at        che wrote       t...</td>\n",
       "    </tr>\n",
       "    <tr>\n",
       "      <th>5794</th>\n",
       "      <td>0</td>\n",
       "      <td>Once upon a time, Manfred wrote :\\n\\n\\n\\n&gt; I w...</td>\n",
       "      <td>once upon  time  manfred wrote         would l...</td>\n",
       "    </tr>\n",
       "    <tr>\n",
       "      <th>5795</th>\n",
       "      <td>0</td>\n",
       "      <td>If you run Pick, and then use the \"New FTOC\" b...</td>\n",
       "      <td>if you run pick  and then use the  new ftoc  b...</td>\n",
       "    </tr>\n",
       "  </tbody>\n",
       "</table>\n",
       "<p>5796 rows × 3 columns</p>\n",
       "</div>"
      ],
      "text/plain": [
       "      CATEGORY                                            MESSAGE  \\\n",
       "0            1  Dear Homeowner,\\n\\n \\n\\nInterest Rates are at ...   \n",
       "1            1  ATTENTION: This is a MUST for ALL Computer Use...   \n",
       "2            1  This is a multi-part message in MIME format.\\n...   \n",
       "3            1  IMPORTANT INFORMATION:\\n\\n\\n\\nThe new domain n...   \n",
       "4            1  This is the bottom line.  If you can GIVE AWAY...   \n",
       "...        ...                                                ...   \n",
       "5791         0  I'm one of the 30,000 but it's not working ver...   \n",
       "5792         0  Damien Morton quoted:\\n\\n>W3C approves HTML 4 ...   \n",
       "5793         0  On Mon, 2002-07-22 at 06:50, che wrote:\\n\\n\\n\\...   \n",
       "5794         0  Once upon a time, Manfred wrote :\\n\\n\\n\\n> I w...   \n",
       "5795         0  If you run Pick, and then use the \"New FTOC\" b...   \n",
       "\n",
       "                                        message_cleaned  \n",
       "0     dear homeowner      interest rates are at thei...  \n",
       "1     attention  this is  must for all computer user...  \n",
       "2     this is  multi part message in mime format    ...  \n",
       "3     important information     the new domain names...  \n",
       "4     this is the bottom line   if you can give away...  \n",
       "...                                                 ...  \n",
       "5791    one of the        but it  not working very w...  \n",
       "5792  damien morton quoted      approves html    emo...  \n",
       "5793  on mon             at        che wrote       t...  \n",
       "5794  once upon  time  manfred wrote         would l...  \n",
       "5795  if you run pick  and then use the  new ftoc  b...  \n",
       "\n",
       "[5796 rows x 3 columns]"
      ]
     },
     "execution_count": 144,
     "metadata": {},
     "output_type": "execute_result"
    }
   ],
   "source": [
    "dtf['message_cleaned'] = dtf['MESSAGE'].apply(preprocess1)\n",
    "dtf"
   ]
  },
  {
   "cell_type": "markdown",
   "metadata": {},
   "source": [
    "### ___Pre-Processing 2: Removing stop words and performing lemmatization/stemming___"
   ]
  },
  {
   "cell_type": "code",
   "execution_count": 145,
   "metadata": {},
   "outputs": [],
   "source": [
    "import nltk\n",
    "#nltk.download('stopwords')\n",
    "#nltk.download('wordnet')\n",
    "\n",
    "from nltk import WordNetLemmatizer, PorterStemmer\n",
    "from nltk.corpus import stopwords\n",
    "\n",
    "ps =PorterStemmer()\n",
    "lm = WordNetLemmatizer()"
   ]
  },
  {
   "cell_type": "code",
   "execution_count": 167,
   "metadata": {},
   "outputs": [],
   "source": [
    "# making a stopwords list\n",
    "st_words = stopwords.words('english')\n",
    "\n",
    "def preprocess2(text, flg_stemm=False, flg_lemm=True):\n",
    "    # Tokenization\n",
    "    tokens = text.split()\n",
    "    \n",
    "    # Stemming implementation\n",
    "    if flg_stemm == True:\n",
    "        text = [ps.stem(word) for word in tokens if word not in st_words]\n",
    "    # Lemmatization implementation\n",
    "    if flg_lemm == True:\n",
    "        text = [lm.lemmatize(word) for word in tokens if word not in st_words]\n",
    "    \n",
    "    return \" \".join(text)"
   ]
  },
  {
   "cell_type": "code",
   "execution_count": 147,
   "metadata": {},
   "outputs": [
    {
     "data": {
      "text/html": [
       "<div>\n",
       "<style scoped>\n",
       "    .dataframe tbody tr th:only-of-type {\n",
       "        vertical-align: middle;\n",
       "    }\n",
       "\n",
       "    .dataframe tbody tr th {\n",
       "        vertical-align: top;\n",
       "    }\n",
       "\n",
       "    .dataframe thead th {\n",
       "        text-align: right;\n",
       "    }\n",
       "</style>\n",
       "<table border=\"1\" class=\"dataframe\">\n",
       "  <thead>\n",
       "    <tr style=\"text-align: right;\">\n",
       "      <th></th>\n",
       "      <th>CATEGORY</th>\n",
       "      <th>MESSAGE</th>\n",
       "      <th>message_cleaned</th>\n",
       "      <th>message_lemm</th>\n",
       "      <th>message_stem</th>\n",
       "    </tr>\n",
       "  </thead>\n",
       "  <tbody>\n",
       "    <tr>\n",
       "      <th>0</th>\n",
       "      <td>1</td>\n",
       "      <td>Dear Homeowner,\\n\\n \\n\\nInterest Rates are at ...</td>\n",
       "      <td>dear homeowner      interest rates are at thei...</td>\n",
       "      <td>dear homeowner interest rate lowest point year...</td>\n",
       "      <td>dear homeown interest rate lowest point year h...</td>\n",
       "    </tr>\n",
       "    <tr>\n",
       "      <th>1</th>\n",
       "      <td>1</td>\n",
       "      <td>ATTENTION: This is a MUST for ALL Computer Use...</td>\n",
       "      <td>attention  this is  must for all computer user...</td>\n",
       "      <td>attention must computer user new special packa...</td>\n",
       "      <td>attent must comput user new special packag dea...</td>\n",
       "    </tr>\n",
       "    <tr>\n",
       "      <th>2</th>\n",
       "      <td>1</td>\n",
       "      <td>This is a multi-part message in MIME format.\\n...</td>\n",
       "      <td>this is  multi part message in mime format    ...</td>\n",
       "      <td>multi part message mime format nextpart cdc co...</td>\n",
       "      <td>multi part messag mime format nextpart cdc con...</td>\n",
       "    </tr>\n",
       "    <tr>\n",
       "      <th>3</th>\n",
       "      <td>1</td>\n",
       "      <td>IMPORTANT INFORMATION:\\n\\n\\n\\nThe new domain n...</td>\n",
       "      <td>important information     the new domain names...</td>\n",
       "      <td>important information new domain name finally ...</td>\n",
       "      <td>import inform new domain name final avail gene...</td>\n",
       "    </tr>\n",
       "    <tr>\n",
       "      <th>4</th>\n",
       "      <td>1</td>\n",
       "      <td>This is the bottom line.  If you can GIVE AWAY...</td>\n",
       "      <td>this is the bottom line   if you can give away...</td>\n",
       "      <td>bottom line give away cd free people like one ...</td>\n",
       "      <td>bottom line give away cd free peopl like one m...</td>\n",
       "    </tr>\n",
       "    <tr>\n",
       "      <th>...</th>\n",
       "      <td>...</td>\n",
       "      <td>...</td>\n",
       "      <td>...</td>\n",
       "      <td>...</td>\n",
       "      <td>...</td>\n",
       "    </tr>\n",
       "    <tr>\n",
       "      <th>5791</th>\n",
       "      <td>0</td>\n",
       "      <td>I'm one of the 30,000 but it's not working ver...</td>\n",
       "      <td>one of the        but it  not working very w...</td>\n",
       "      <td>one working well week te update server syncing...</td>\n",
       "      <td>one work well week te updat server sync origin...</td>\n",
       "    </tr>\n",
       "    <tr>\n",
       "      <th>5792</th>\n",
       "      <td>0</td>\n",
       "      <td>Damien Morton quoted:\\n\\n&gt;W3C approves HTML 4 ...</td>\n",
       "      <td>damien morton quoted      approves html    emo...</td>\n",
       "      <td>damien morton quoted approves html emotitags a...</td>\n",
       "      <td>damien morton quot approv html emotitag abl sa...</td>\n",
       "    </tr>\n",
       "    <tr>\n",
       "      <th>5793</th>\n",
       "      <td>0</td>\n",
       "      <td>On Mon, 2002-07-22 at 06:50, che wrote:\\n\\n\\n\\...</td>\n",
       "      <td>on mon             at        che wrote       t...</td>\n",
       "      <td>mon che wrote thats correct line added source ...</td>\n",
       "      <td>mon che wrote that correct line ad sourc list ...</td>\n",
       "    </tr>\n",
       "    <tr>\n",
       "      <th>5794</th>\n",
       "      <td>0</td>\n",
       "      <td>Once upon a time, Manfred wrote :\\n\\n\\n\\n&gt; I w...</td>\n",
       "      <td>once upon  time  manfred wrote         would l...</td>\n",
       "      <td>upon time manfred wrote would like install rpm...</td>\n",
       "      <td>upon time manfr wrote would like instal rpm tr...</td>\n",
       "    </tr>\n",
       "    <tr>\n",
       "      <th>5795</th>\n",
       "      <td>0</td>\n",
       "      <td>If you run Pick, and then use the \"New FTOC\" b...</td>\n",
       "      <td>if you run pick  and then use the  new ftoc  b...</td>\n",
       "      <td>run pick use new ftoc button show message sele...</td>\n",
       "      <td>run pick use new ftoc button show messag selec...</td>\n",
       "    </tr>\n",
       "  </tbody>\n",
       "</table>\n",
       "<p>5796 rows × 5 columns</p>\n",
       "</div>"
      ],
      "text/plain": [
       "      CATEGORY                                            MESSAGE  \\\n",
       "0            1  Dear Homeowner,\\n\\n \\n\\nInterest Rates are at ...   \n",
       "1            1  ATTENTION: This is a MUST for ALL Computer Use...   \n",
       "2            1  This is a multi-part message in MIME format.\\n...   \n",
       "3            1  IMPORTANT INFORMATION:\\n\\n\\n\\nThe new domain n...   \n",
       "4            1  This is the bottom line.  If you can GIVE AWAY...   \n",
       "...        ...                                                ...   \n",
       "5791         0  I'm one of the 30,000 but it's not working ver...   \n",
       "5792         0  Damien Morton quoted:\\n\\n>W3C approves HTML 4 ...   \n",
       "5793         0  On Mon, 2002-07-22 at 06:50, che wrote:\\n\\n\\n\\...   \n",
       "5794         0  Once upon a time, Manfred wrote :\\n\\n\\n\\n> I w...   \n",
       "5795         0  If you run Pick, and then use the \"New FTOC\" b...   \n",
       "\n",
       "                                        message_cleaned  \\\n",
       "0     dear homeowner      interest rates are at thei...   \n",
       "1     attention  this is  must for all computer user...   \n",
       "2     this is  multi part message in mime format    ...   \n",
       "3     important information     the new domain names...   \n",
       "4     this is the bottom line   if you can give away...   \n",
       "...                                                 ...   \n",
       "5791    one of the        but it  not working very w...   \n",
       "5792  damien morton quoted      approves html    emo...   \n",
       "5793  on mon             at        che wrote       t...   \n",
       "5794  once upon  time  manfred wrote         would l...   \n",
       "5795  if you run pick  and then use the  new ftoc  b...   \n",
       "\n",
       "                                           message_lemm  \\\n",
       "0     dear homeowner interest rate lowest point year...   \n",
       "1     attention must computer user new special packa...   \n",
       "2     multi part message mime format nextpart cdc co...   \n",
       "3     important information new domain name finally ...   \n",
       "4     bottom line give away cd free people like one ...   \n",
       "...                                                 ...   \n",
       "5791  one working well week te update server syncing...   \n",
       "5792  damien morton quoted approves html emotitags a...   \n",
       "5793  mon che wrote thats correct line added source ...   \n",
       "5794  upon time manfred wrote would like install rpm...   \n",
       "5795  run pick use new ftoc button show message sele...   \n",
       "\n",
       "                                           message_stem  \n",
       "0     dear homeown interest rate lowest point year h...  \n",
       "1     attent must comput user new special packag dea...  \n",
       "2     multi part messag mime format nextpart cdc con...  \n",
       "3     import inform new domain name final avail gene...  \n",
       "4     bottom line give away cd free peopl like one m...  \n",
       "...                                                 ...  \n",
       "5791  one work well week te updat server sync origin...  \n",
       "5792  damien morton quot approv html emotitag abl sa...  \n",
       "5793  mon che wrote that correct line ad sourc list ...  \n",
       "5794  upon time manfr wrote would like instal rpm tr...  \n",
       "5795  run pick use new ftoc button show messag selec...  \n",
       "\n",
       "[5796 rows x 5 columns]"
      ]
     },
     "execution_count": 147,
     "metadata": {},
     "output_type": "execute_result"
    }
   ],
   "source": [
    "dtf['message_lemm'] = dtf['message_cleaned'].apply(lambda x: preprocess2(x, flg_stemm=False, flg_lemm=True))\n",
    "dtf['message_stem'] = dtf['message_cleaned'].apply(lambda x: preprocess2(x, flg_stemm=True, flg_lemm=False))\n",
    "dtf"
   ]
  },
  {
   "cell_type": "code",
   "execution_count": 148,
   "metadata": {},
   "outputs": [
    {
     "data": {
      "text/plain": [
       "1030551"
      ]
     },
     "execution_count": 148,
     "metadata": {},
     "output_type": "execute_result"
    }
   ],
   "source": [
    "corpus1 = []\n",
    "for sent in dtf['message_lemm'].values:\n",
    "    for word in sent.split():\n",
    "            corpus1.append(word)\n",
    "len(corpus1)"
   ]
  },
  {
   "cell_type": "code",
   "execution_count": 149,
   "metadata": {},
   "outputs": [
    {
     "data": {
      "text/plain": [
       "[('nbsp', 11784),\n",
       " ('list', 5933),\n",
       " ('email', 4399),\n",
       " ('one', 4042),\n",
       " ('get', 3886),\n",
       " ('free', 3379),\n",
       " ('time', 3328),\n",
       " ('mail', 3205),\n",
       " ('linux', 3142),\n",
       " ('message', 2859)]"
      ]
     },
     "execution_count": 149,
     "metadata": {},
     "output_type": "execute_result"
    }
   ],
   "source": [
    "from collections import Counter\n",
    "Counter(corpus1).most_common(10)"
   ]
  },
  {
   "cell_type": "code",
   "execution_count": 169,
   "metadata": {},
   "outputs": [
    {
     "data": {
      "text/plain": [
       "(133006, 1030551)"
      ]
     },
     "execution_count": 169,
     "metadata": {},
     "output_type": "execute_result"
    }
   ],
   "source": [
    "len(Counter(corpus1)), len(corpus1)"
   ]
  },
  {
   "cell_type": "code",
   "execution_count": 150,
   "metadata": {},
   "outputs": [
    {
     "data": {
      "text/plain": [
       "(-0.5, 399.5, 199.5, -0.5)"
      ]
     },
     "execution_count": 150,
     "metadata": {},
     "output_type": "execute_result"
    },
    {
     "data": {
      "image/png": "[encoded data removed]",
      "text/plain": [
       "<Figure size 432x288 with 1 Axes>"
      ]
     },
     "metadata": {
      "needs_background": "light"
     },
     "output_type": "display_data"
    }
   ],
   "source": [
    "from wordcloud import WordCloud\n",
    "word_cloud = WordCloud(collocations = False, background_color = 'white').generate(str(corpus1))\n",
    "plt.imshow(word_cloud)\n",
    "plt.axis('off')"
   ]
  },
  {
   "cell_type": "markdown",
   "metadata": {},
   "source": [
    "## __Model_Building__"
   ]
  },
  {
   "cell_type": "markdown",
   "metadata": {},
   "source": [
    "### ___Tf-Idf___"
   ]
  },
  {
   "cell_type": "code",
   "execution_count": 151,
   "metadata": {},
   "outputs": [],
   "source": [
    "from sklearn.feature_extraction.text import TfidfVectorizer\n",
    "from sklearn.naive_bayes import MultinomialNB\n",
    "from sklearn.metrics import confusion_matrix, ConfusionMatrixDisplay, classification_report\n",
    "from sklearn.model_selection import train_test_split\n",
    "\n",
    "x_train, x_test, y_train, y_test = train_test_split(dtf, dtf['CATEGORY'], test_size=0.2)\n",
    "\n",
    "tfidf_lemm = TfidfVectorizer(max_features=2500)\n",
    "tfidf_stem = TfidfVectorizer(max_features=2500)\n",
    "\n",
    "labels = {0: 'Not Spam', 1: 'Spam'}"
   ]
  },
  {
   "cell_type": "markdown",
   "metadata": {},
   "source": [
    "### ___Lemmatization___"
   ]
  },
  {
   "cell_type": "code",
   "execution_count": 152,
   "metadata": {},
   "outputs": [
    {
     "data": {
      "text/html": [
       "<div>\n",
       "<style scoped>\n",
       "    .dataframe tbody tr th:only-of-type {\n",
       "        vertical-align: middle;\n",
       "    }\n",
       "\n",
       "    .dataframe tbody tr th {\n",
       "        vertical-align: top;\n",
       "    }\n",
       "\n",
       "    .dataframe thead th {\n",
       "        text-align: right;\n",
       "    }\n",
       "</style>\n",
       "<table border=\"1\" class=\"dataframe\">\n",
       "  <thead>\n",
       "    <tr style=\"text-align: right;\">\n",
       "      <th></th>\n",
       "      <th>CATEGORY</th>\n",
       "      <th>MESSAGE</th>\n",
       "      <th>message_cleaned</th>\n",
       "      <th>message_lemm</th>\n",
       "      <th>message_stem</th>\n",
       "    </tr>\n",
       "  </thead>\n",
       "  <tbody>\n",
       "    <tr>\n",
       "      <th>633</th>\n",
       "      <td>1</td>\n",
       "      <td>Unbelievable Prices On Cell Phones And Accesso...</td>\n",
       "      <td>unbelievable prices on cell phones and accesso...</td>\n",
       "      <td>unbelievable price cell phone accessory hand f...</td>\n",
       "      <td>unbeliev price cell phone accessori hand free ...</td>\n",
       "    </tr>\n",
       "  </tbody>\n",
       "</table>\n",
       "</div>"
      ],
      "text/plain": [
       "     CATEGORY                                            MESSAGE  \\\n",
       "633         1  Unbelievable Prices On Cell Phones And Accesso...   \n",
       "\n",
       "                                       message_cleaned  \\\n",
       "633  unbelievable prices on cell phones and accesso...   \n",
       "\n",
       "                                          message_lemm  \\\n",
       "633  unbelievable price cell phone accessory hand f...   \n",
       "\n",
       "                                          message_stem  \n",
       "633  unbeliev price cell phone accessori hand free ...  "
      ]
     },
     "execution_count": 152,
     "metadata": {},
     "output_type": "execute_result"
    }
   ],
   "source": [
    "x_train.head(1)"
   ]
  },
  {
   "cell_type": "code",
   "execution_count": 153,
   "metadata": {},
   "outputs": [
    {
     "data": {
      "text/plain": [
       "<sklearn.metrics._plot.confusion_matrix.ConfusionMatrixDisplay at 0x1d20441e070>"
      ]
     },
     "execution_count": 153,
     "metadata": {},
     "output_type": "execute_result"
    },
    {
     "data": {
      "image/png": "[encoded data removed]",
      "text/plain": [
       "<Figure size 432x288 with 2 Axes>"
      ]
     },
     "metadata": {
      "needs_background": "light"
     },
     "output_type": "display_data"
    }
   ],
   "source": [
    "X_train = tfidf_lemm.fit_transform(x_train['message_lemm']).toarray()\n",
    "spam_detect_lemm = MultinomialNB().fit(X_train,y_train)\n",
    "\n",
    "X_test = tfidf_lemm.transform(x_test['message_lemm'])\n",
    "y_pred = spam_detect_lemm.predict(X_test)\n",
    "\n",
    "cm = confusion_matrix(y_test, y_pred)\n",
    "disp = ConfusionMatrixDisplay(cm, display_labels=['Not Spam', 'Spam'])      # 0:not_spam,  1:spam\n",
    "disp.plot()"
   ]
  },
  {
   "cell_type": "code",
   "execution_count": 154,
   "metadata": {},
   "outputs": [
    {
     "name": "stdout",
     "output_type": "stream",
     "text": [
      "              precision    recall  f1-score   support\n",
      "\n",
      "           0       0.98      0.99      0.99       799\n",
      "           1       0.99      0.96      0.97       361\n",
      "\n",
      "    accuracy                           0.98      1160\n",
      "   macro avg       0.98      0.97      0.98      1160\n",
      "weighted avg       0.98      0.98      0.98      1160\n",
      "\n"
     ]
    }
   ],
   "source": [
    "print(classification_report(y_test, y_pred))"
   ]
  },
  {
   "cell_type": "markdown",
   "metadata": {},
   "source": [
    "### ___Stemming___"
   ]
  },
  {
   "cell_type": "code",
   "execution_count": 155,
   "metadata": {},
   "outputs": [
    {
     "data": {
      "text/plain": [
       "<sklearn.metrics._plot.confusion_matrix.ConfusionMatrixDisplay at 0x1d204522fd0>"
      ]
     },
     "execution_count": 155,
     "metadata": {},
     "output_type": "execute_result"
    },
    {
     "data": {
      "image/png": "[encoded data removed]",
      "text/plain": [
       "<Figure size 432x288 with 2 Axes>"
      ]
     },
     "metadata": {
      "needs_background": "light"
     },
     "output_type": "display_data"
    }
   ],
   "source": [
    "X_train = tfidf_stem.fit_transform(x_train['message_stem']).toarray()\n",
    "spam_detect_stem = MultinomialNB().fit(X_train,y_train)\n",
    "\n",
    "X_test = tfidf_stem.transform(x_test['message_stem'])\n",
    "y_pred = spam_detect_stem.predict(X_test)\n",
    "\n",
    "cm = confusion_matrix(y_test, y_pred)\n",
    "disp = ConfusionMatrixDisplay(cm, display_labels=['Not Spam', 'Spam'])      # 0:not_spam,  1:spam\n",
    "disp.plot()"
   ]
  },
  {
   "cell_type": "code",
   "execution_count": 156,
   "metadata": {},
   "outputs": [
    {
     "name": "stdout",
     "output_type": "stream",
     "text": [
      "              precision    recall  f1-score   support\n",
      "\n",
      "           0       0.98      0.99      0.99       799\n",
      "           1       0.98      0.96      0.97       361\n",
      "\n",
      "    accuracy                           0.98      1160\n",
      "   macro avg       0.98      0.98      0.98      1160\n",
      "weighted avg       0.98      0.98      0.98      1160\n",
      "\n"
     ]
    }
   ],
   "source": [
    "print(classification_report(y_test, y_pred))"
   ]
  },
  {
   "cell_type": "markdown",
   "metadata": {},
   "source": [
    "## ___CountVectorizer___"
   ]
  },
  {
   "cell_type": "code",
   "execution_count": 157,
   "metadata": {},
   "outputs": [],
   "source": [
    "from sklearn.feature_extraction.text import CountVectorizer\n",
    "\n",
    "cvect_lemm = CountVectorizer(max_features=2500)\n",
    "cvect_stem = CountVectorizer(max_features=2500)\n",
    "\n",
    "labels = {0: 'Not Spam', 1: 'Spam'}"
   ]
  },
  {
   "cell_type": "markdown",
   "metadata": {},
   "source": [
    "### ___Lemmatization___"
   ]
  },
  {
   "cell_type": "code",
   "execution_count": 158,
   "metadata": {},
   "outputs": [
    {
     "data": {
      "text/plain": [
       "<sklearn.metrics._plot.confusion_matrix.ConfusionMatrixDisplay at 0x1d20baa8c10>"
      ]
     },
     "execution_count": 158,
     "metadata": {},
     "output_type": "execute_result"
    },
    {
     "data": {
      "image/png": "[encoded data removed]",
      "text/plain": [
       "<Figure size 432x288 with 2 Axes>"
      ]
     },
     "metadata": {
      "needs_background": "light"
     },
     "output_type": "display_data"
    }
   ],
   "source": [
    "X_train = cvect_lemm.fit_transform(x_train['message_lemm']).toarray()\n",
    "spam_detect_lemm = MultinomialNB().fit(X_train,y_train)\n",
    "\n",
    "X_test = cvect_lemm.transform(x_test['message_lemm'])\n",
    "y_pred = spam_detect_lemm.predict(X_test)\n",
    "\n",
    "cm = confusion_matrix(y_test, y_pred)\n",
    "disp = ConfusionMatrixDisplay(cm, display_labels=['Not Spam', 'Spam'])      # 0:not_spam,  1:spam\n",
    "disp.plot()"
   ]
  },
  {
   "cell_type": "code",
   "execution_count": 159,
   "metadata": {},
   "outputs": [
    {
     "name": "stdout",
     "output_type": "stream",
     "text": [
      "              precision    recall  f1-score   support\n",
      "\n",
      "           0       0.98      0.99      0.99       799\n",
      "           1       0.98      0.96      0.97       361\n",
      "\n",
      "    accuracy                           0.98      1160\n",
      "   macro avg       0.98      0.97      0.98      1160\n",
      "weighted avg       0.98      0.98      0.98      1160\n",
      "\n"
     ]
    }
   ],
   "source": [
    "print(classification_report(y_test, y_pred))"
   ]
  },
  {
   "cell_type": "markdown",
   "metadata": {},
   "source": [
    "### ___Stemming___"
   ]
  },
  {
   "cell_type": "code",
   "execution_count": 160,
   "metadata": {},
   "outputs": [
    {
     "data": {
      "text/plain": [
       "<sklearn.metrics._plot.confusion_matrix.ConfusionMatrixDisplay at 0x1d2097d1be0>"
      ]
     },
     "execution_count": 160,
     "metadata": {},
     "output_type": "execute_result"
    },
    {
     "data": {
      "image/png": "[encoded data removed]",
      "text/plain": [
       "<Figure size 432x288 with 2 Axes>"
      ]
     },
     "metadata": {
      "needs_background": "light"
     },
     "output_type": "display_data"
    }
   ],
   "source": [
    "X_train = cvect_stem.fit_transform(x_train['message_stem']).toarray()\n",
    "spam_detect_stem = MultinomialNB().fit(X_train,y_train)\n",
    "\n",
    "X_test = cvect_stem.transform(x_test['message_stem'])\n",
    "y_pred = spam_detect_stem.predict(X_test)\n",
    "\n",
    "cm = confusion_matrix(y_test, y_pred)\n",
    "disp = ConfusionMatrixDisplay(cm, display_labels=['Not Spam', 'Spam'])      # 0:not_spam,  1:spam\n",
    "disp.plot()"
   ]
  },
  {
   "cell_type": "code",
   "execution_count": 161,
   "metadata": {},
   "outputs": [
    {
     "name": "stdout",
     "output_type": "stream",
     "text": [
      "              precision    recall  f1-score   support\n",
      "\n",
      "           0       0.98      0.99      0.99       799\n",
      "           1       0.98      0.96      0.97       361\n",
      "\n",
      "    accuracy                           0.98      1160\n",
      "   macro avg       0.98      0.97      0.98      1160\n",
      "weighted avg       0.98      0.98      0.98      1160\n",
      "\n"
     ]
    }
   ],
   "source": [
    "print(classification_report(y_test, y_pred))"
   ]
  },
  {
   "cell_type": "markdown",
   "metadata": {},
   "source": [
    "## ___cross_val_score___"
   ]
  },
  {
   "cell_type": "code",
   "execution_count": 166,
   "metadata": {},
   "outputs": [
    {
     "data": {
      "text/plain": [
       "array([0.97327586, 0.98360656, 0.98188093, 0.98274374, 0.98101812])"
      ]
     },
     "execution_count": 166,
     "metadata": {},
     "output_type": "execute_result"
    }
   ],
   "source": [
    "from sklearn.model_selection import cross_val_score\n",
    "spam_detect = MultinomialNB()\n",
    "cross_val_score(spam_detect, tfidf_lemm.fit_transform(dtf['message_lemm']), dtf['CATEGORY'], cv=5)"
   ]
  },
  {
   "cell_type": "code",
   "execution_count": null,
   "metadata": {},
   "outputs": [],
   "source": []
  }
 ],
 "metadata": {
  "interpreter": {
   "hash": "5a03e6978a913b76a01264f69485476c06bb2afb04825931e6a903524ca57e27"
  },
  "kernelspec": {
   "display_name": "Python 3.9.7 ('base')",
   "language": "python",
   "name": "python3"
  },
  "language_info": {
   "codemirror_mode": {
    "name": "ipython",
    "version": 3
   },
   "file_extension": ".py",
   "mimetype": "text/x-python",
   "name": "python",
   "nbconvert_exporter": "python",
   "pygments_lexer": "ipython3",
   "version": "3.9.7"
  },
  "orig_nbformat": 4
 },
 "nbformat": 4,
 "nbformat_minor": 2
}
